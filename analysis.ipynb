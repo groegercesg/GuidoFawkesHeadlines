{
 "cells": [
  {
   "cell_type": "code",
   "execution_count": 73,
   "metadata": {},
   "outputs": [],
   "source": [
    "import pandas as pd\n",
    "from fastai import *\n",
    "articleDetails = pd.read_pickle('article_details.pkl')"
   ]
  },
  {
   "cell_type": "code",
   "execution_count": 74,
   "metadata": {},
   "outputs": [
    {
     "name": "stdout",
     "output_type": "stream",
     "text": [
      "We have 3353 articles in our Corpus of data\n"
     ]
    }
   ],
   "source": [
    "count = 0\n",
    "for i in range(0, len(articleDetails['List Links'])):\n",
    "    count += len(articleDetails['List Links'][i])\n",
    "            \n",
    "print(\"We have \" + str(count) + \" articles in our Corpus of data\")"
   ]
  },
  {
   "cell_type": "code",
   "execution_count": 75,
   "metadata": {},
   "outputs": [],
   "source": [
    "headlines = []\n",
    "for i in range(0, len(articleDetails['List Links'])):\n",
    "    for j in range(0, len(articleDetails['List Links'][i])):\n",
    "        headlines.append(articleDetails['List Links'][i][j])\n",
    "\n",
    "headline_DF = pd.DataFrame()\n",
    "headline_DF['headlines_str'] = headlines"
   ]
  },
  {
   "cell_type": "code",
   "execution_count": 103,
   "metadata": {},
   "outputs": [
    {
     "name": "stdout",
     "output_type": "stream",
     "text": [
      "7\n"
     ]
    }
   ],
   "source": [
    "# Average length of headline\n",
    "sum_lens = 0\n",
    "for i in range(0, len(headlines)):\n",
    "    sum_lens += len(headlines[i].split())\n",
    "    \n",
    "average_length = int(sum_lens / len(headlines))\n",
    "print(average_length)"
   ]
  },
  {
   "cell_type": "code",
   "execution_count": 131,
   "metadata": {},
   "outputs": [
    {
     "name": "stdout",
     "output_type": "stream",
     "text": [
      "Cat\n",
      "3\n",
      "Cat and dog\n"
     ]
    }
   ],
   "source": [
    "list1 = [\"Cat\"]\n",
    "print(' '.join(list1))\n",
    "print(len(' '.join(list1)))\n",
    "\n",
    "list2 = [\"Cat\", \"and\", \"dog\"]\n",
    "print(' '.join(list2[:3+1]))"
   ]
  },
  {
   "cell_type": "code",
   "execution_count": 134,
   "metadata": {},
   "outputs": [],
   "source": [
    "# Most Popular first words\n",
    "def find_in_list_of_tuple(list, target):\n",
    "    return_value = False\n",
    "    for j in range(0, len(list)):\n",
    "        if list[j][0] == target:\n",
    "            return_value = True\n",
    "    return return_value\n",
    "\n",
    "def find_index_in_list_of_tuple(list, target):\n",
    "    return_value = False\n",
    "    for j in range(0, len(list)):\n",
    "        if list[j][0] == target:\n",
    "            return_value = j\n",
    "    return return_value\n",
    "\n",
    "\n",
    "def generateLeadingStringArray(num_words):\n",
    "    local_arr = []\n",
    "    for i in range(0, len(headlines)):\n",
    "        first_word_of_string = ' '.join(headlines[i].split()[:num_words])\n",
    "        if find_in_list_of_tuple(local_arr, first_word_of_string) == True:\n",
    "            # Word has already been added to local_arr\n",
    "            local_arr[find_index_in_list_of_tuple(local_arr, first_word_of_string)][1] += 1\n",
    "        else:\n",
    "            local_arr.append([first_word_of_string, 1])\n",
    "\n",
    "    local_arr = sorted(local_arr, key=lambda tup: tup[1], reverse=True)\n",
    "    \n",
    "    return local_arr"
   ]
  },
  {
   "cell_type": "code",
   "execution_count": 135,
   "metadata": {},
   "outputs": [
    {
     "name": "stdout",
     "output_type": "stream",
     "text": [
      "[['Labour', 125], ['WATCH:', 75], ['Corbyn', 60], ['BBC', 55], ['The', 42]]\n",
      "[['PMQs SKETCH:', 22], ['Owen Jones', 21], ['Diane Abbott', 19], ['Read in', 15], ['Tory MP', 12]]\n",
      "[['Read in Full:', 14], ['+++ RESHUFFLE LIVE', 4], ['Channel 4 News', 4], ['READ IN FULL:', 3], ['EXCLUSIVE: Home Office', 3]]\n"
     ]
    }
   ],
   "source": [
    "most_popular_first_word = generateLeadingStringArray(1)\n",
    "most_popular_two_words = generateLeadingStringArray(2)\n",
    "most_popular_three_words = generateLeadingStringArray(3)\n",
    "\n",
    "print(most_popular_first_word[:5])\n",
    "print(most_popular_two_words[:5])\n",
    "print(most_popular_three_words[:5])"
   ]
  },
  {
   "cell_type": "code",
   "execution_count": 92,
   "metadata": {},
   "outputs": [
    {
     "data": {
      "text/html": [
       "\n",
       "<style>\n",
       "    /* Turns off some styling */\n",
       "    progress {\n",
       "        /* gets rid of default border in Firefox and Opera. */\n",
       "        border: none;\n",
       "        /* Needs to be in here for Safari polyfill so background images work as expected. */\n",
       "        background-size: auto;\n",
       "    }\n",
       "    .progress-bar-interrupted, .progress-bar-interrupted::-webkit-progress-bar {\n",
       "        background: #F44336;\n",
       "    }\n",
       "</style>\n"
      ],
      "text/plain": [
       "<IPython.core.display.HTML object>"
      ]
     },
     "metadata": {},
     "output_type": "display_data"
    },
    {
     "data": {
      "text/html": [],
      "text/plain": [
       "<IPython.core.display.HTML object>"
      ]
     },
     "metadata": {},
     "output_type": "display_data"
    }
   ],
   "source": [
    "dls = TextDataLoaders.from_df(headline_DF, path=\"./\", text_col='headlines_str', valid_pct=0.3, is_lm=True)"
   ]
  },
  {
   "cell_type": "code",
   "execution_count": 93,
   "metadata": {},
   "outputs": [
    {
     "data": {
      "text/html": [
       "\n",
       "<style>\n",
       "    /* Turns off some styling */\n",
       "    progress {\n",
       "        /* gets rid of default border in Firefox and Opera. */\n",
       "        border: none;\n",
       "        /* Needs to be in here for Safari polyfill so background images work as expected. */\n",
       "        background-size: auto;\n",
       "    }\n",
       "    .progress-bar-interrupted, .progress-bar-interrupted::-webkit-progress-bar {\n",
       "        background: #F44336;\n",
       "    }\n",
       "</style>\n"
      ],
      "text/plain": [
       "<IPython.core.display.HTML object>"
      ]
     },
     "metadata": {},
     "output_type": "display_data"
    },
    {
     "data": {
      "text/html": [
       "\n",
       "    <div>\n",
       "      <progress value='105070592' class='' max='105067061' style='width:300px; height:20px; vertical-align: middle;'></progress>\n",
       "      100.00% [105070592/105067061 00:38<00:00]\n",
       "    </div>\n",
       "    "
      ],
      "text/plain": [
       "<IPython.core.display.HTML object>"
      ]
     },
     "metadata": {},
     "output_type": "display_data"
    }
   ],
   "source": [
    "model = language_model_learner(dls, AWD_LSTM)"
   ]
  },
  {
   "cell_type": "code",
   "execution_count": 94,
   "metadata": {},
   "outputs": [
    {
     "data": {
      "text/html": [
       "\n",
       "<style>\n",
       "    /* Turns off some styling */\n",
       "    progress {\n",
       "        /* gets rid of default border in Firefox and Opera. */\n",
       "        border: none;\n",
       "        /* Needs to be in here for Safari polyfill so background images work as expected. */\n",
       "        background-size: auto;\n",
       "    }\n",
       "    .progress-bar-interrupted, .progress-bar-interrupted::-webkit-progress-bar {\n",
       "        background: #F44336;\n",
       "    }\n",
       "</style>\n"
      ],
      "text/plain": [
       "<IPython.core.display.HTML object>"
      ]
     },
     "metadata": {},
     "output_type": "display_data"
    },
    {
     "data": {
      "text/html": [
       "<table border=\"1\" class=\"dataframe\">\n",
       "  <thead>\n",
       "    <tr style=\"text-align: left;\">\n",
       "      <th>epoch</th>\n",
       "      <th>train_loss</th>\n",
       "      <th>valid_loss</th>\n",
       "      <th>time</th>\n",
       "    </tr>\n",
       "  </thead>\n",
       "  <tbody>\n",
       "    <tr>\n",
       "      <td>0</td>\n",
       "      <td>4.986782</td>\n",
       "      <td>4.678916</td>\n",
       "      <td>02:52</td>\n",
       "    </tr>\n",
       "    <tr>\n",
       "      <td>1</td>\n",
       "      <td>4.901416</td>\n",
       "      <td>4.501376</td>\n",
       "      <td>02:44</td>\n",
       "    </tr>\n",
       "    <tr>\n",
       "      <td>2</td>\n",
       "      <td>4.796350</td>\n",
       "      <td>4.389595</td>\n",
       "      <td>03:03</td>\n",
       "    </tr>\n",
       "    <tr>\n",
       "      <td>3</td>\n",
       "      <td>4.735701</td>\n",
       "      <td>4.342404</td>\n",
       "      <td>02:47</td>\n",
       "    </tr>\n",
       "    <tr>\n",
       "      <td>4</td>\n",
       "      <td>4.676809</td>\n",
       "      <td>4.335111</td>\n",
       "      <td>03:04</td>\n",
       "    </tr>\n",
       "  </tbody>\n",
       "</table>"
      ],
      "text/plain": [
       "<IPython.core.display.HTML object>"
      ]
     },
     "metadata": {},
     "output_type": "display_data"
    }
   ],
   "source": [
    "model.fit_one_cycle(5)"
   ]
  },
  {
   "cell_type": "code",
   "execution_count": 144,
   "metadata": {},
   "outputs": [
    {
     "name": "stdout",
     "output_type": "stream",
     "text": [
      "\n"
     ]
    }
   ],
   "source": [
    "def namestr(obj, namespace):\n",
    "    return [name for name in namespace if namespace[name] is obj]\n",
    "\n",
    "print()\n",
    "\n",
    "def getGeneration(leading_string_arr, number_of_words=10, min_length=1, max_length=3, number_of_generations=3):\n",
    "    model_output = \"\"\n",
    "    model_output = model_output + \"----------------\\n\"\n",
    "    model_output = model_output + \"Using the array: \" + namestr(leading_string_arr, globals())[0] + \"\\n\"\n",
    "    for i in range(0, number_of_words):\n",
    "        if leading_string_arr[i][0][-1] == \":\":\n",
    "            model_output = model_output + leading_string_arr[i][0] + \"\\n\"\n",
    "        else:\n",
    "            model_output = model_output + leading_string_arr[i][0] + \":\\n\"\n",
    "        for j in range(min_length, max_length):\n",
    "            num_words = int(average_length*(j+1))\n",
    "            model_output = model_output + \"\\t\" + \"With length of \" + str(num_words) + \":\\n\"\n",
    "            for k in range(0, number_of_generations):\n",
    "                with model.no_bar(), model.no_logging():\n",
    "                    model_output = model_output + \"\\t\\t\" + model.predict(leading_string_arr[i][0], n_words=num_words) + \"\\n\"\n",
    "            \n",
    "    print(model_output)"
   ]
  },
  {
   "cell_type": "code",
   "execution_count": 143,
   "metadata": {},
   "outputs": [
    {
     "data": {
      "text/html": [
       "\n",
       "<style>\n",
       "    /* Turns off some styling */\n",
       "    progress {\n",
       "        /* gets rid of default border in Firefox and Opera. */\n",
       "        border: none;\n",
       "        /* Needs to be in here for Safari polyfill so background images work as expected. */\n",
       "        background-size: auto;\n",
       "    }\n",
       "    .progress-bar-interrupted, .progress-bar-interrupted::-webkit-progress-bar {\n",
       "        background: #F44336;\n",
       "    }\n",
       "</style>\n"
      ],
      "text/plain": [
       "<IPython.core.display.HTML object>"
      ]
     },
     "metadata": {},
     "output_type": "display_data"
    },
    {
     "data": {
      "text/html": [],
      "text/plain": [
       "<IPython.core.display.HTML object>"
      ]
     },
     "metadata": {},
     "output_type": "display_data"
    },
    {
     "name": "stdout",
     "output_type": "stream",
     "text": [
      "---------------\n",
      "Using the array: most_popular_first_word\n",
      "Labour:\n",
      "\tWith length of 14:\n",
      "\t\tLabour Stand at The End of Time Team In\n",
      "\n"
     ]
    },
    {
     "data": {
      "text/html": [
       "\n",
       "<style>\n",
       "    /* Turns off some styling */\n",
       "    progress {\n",
       "        /* gets rid of default border in Firefox and Opera. */\n",
       "        border: none;\n",
       "        /* Needs to be in here for Safari polyfill so background images work as expected. */\n",
       "        background-size: auto;\n",
       "    }\n",
       "    .progress-bar-interrupted, .progress-bar-interrupted::-webkit-progress-bar {\n",
       "        background: #F44336;\n",
       "    }\n",
       "</style>\n"
      ],
      "text/plain": [
       "<IPython.core.display.HTML object>"
      ]
     },
     "metadata": {},
     "output_type": "display_data"
    },
    {
     "data": {
      "text/html": [],
      "text/plain": [
       "<IPython.core.display.HTML object>"
      ]
     },
     "metadata": {},
     "output_type": "display_data"
    },
    {
     "name": "stdout",
     "output_type": "stream",
     "text": [
      "---------------\n",
      "Using the array: most_popular_two_words\n",
      "PMQs SKETCH:\n",
      "\tWith length of 14:\n",
      "\t\tpmqs SKETCH : Christmas Time Lies Last Time In Canada\n",
      "\n"
     ]
    }
   ],
   "source": [
    "getGeneration(most_popular_first_word)\n",
    "getGeneration(most_popular_two_words)\n",
    "getGeneration(most_popular_three_words)"
   ]
  }
 ],
 "metadata": {
  "kernelspec": {
   "display_name": "Python 3.10.4 64-bit",
   "language": "python",
   "name": "python3"
  },
  "language_info": {
   "codemirror_mode": {
    "name": "ipython",
    "version": 3
   },
   "file_extension": ".py",
   "mimetype": "text/x-python",
   "name": "python",
   "nbconvert_exporter": "python",
   "pygments_lexer": "ipython3",
   "version": "3.10.4"
  },
  "orig_nbformat": 4,
  "vscode": {
   "interpreter": {
    "hash": "e7370f93d1d0cde622a1f8e1c04877d8463912d04d973331ad4851f04de6915a"
   }
  }
 },
 "nbformat": 4,
 "nbformat_minor": 2
}
