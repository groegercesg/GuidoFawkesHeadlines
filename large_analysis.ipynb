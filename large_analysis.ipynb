{
 "cells": [
  {
   "cell_type": "code",
   "execution_count": 1,
   "metadata": {},
   "outputs": [],
   "source": [
    "import pandas as pd\n",
    "from fastai import *\n",
    "articleDetails = pd.read_pickle('headlines.pkl')"
   ]
  },
  {
   "cell_type": "code",
   "execution_count": 2,
   "metadata": {},
   "outputs": [
    {
     "data": {
      "text/html": [
       "<div>\n",
       "<style scoped>\n",
       "    .dataframe tbody tr th:only-of-type {\n",
       "        vertical-align: middle;\n",
       "    }\n",
       "\n",
       "    .dataframe tbody tr th {\n",
       "        vertical-align: top;\n",
       "    }\n",
       "\n",
       "    .dataframe thead th {\n",
       "        text-align: right;\n",
       "    }\n",
       "</style>\n",
       "<table border=\"1\" class=\"dataframe\">\n",
       "  <thead>\n",
       "    <tr style=\"text-align: right;\">\n",
       "      <th></th>\n",
       "      <th>Link</th>\n",
       "      <th>Headline</th>\n",
       "      <th>Post Time</th>\n",
       "    </tr>\n",
       "  </thead>\n",
       "  <tbody>\n",
       "    <tr>\n",
       "      <th>0</th>\n",
       "      <td>https://order-order.com/2022/06/13/davis-slams...</td>\n",
       "      <td>Davis Slams US Legal System Over Assange</td>\n",
       "      <td>2022-06-13 13:00:00</td>\n",
       "    </tr>\n",
       "    <tr>\n",
       "      <th>1</th>\n",
       "      <td>https://order-order.com/2022/06/13/reform-uk-l...</td>\n",
       "      <td>Reform UK Launches £74 Billion ‘Emergency Reco...</td>\n",
       "      <td>2022-06-13 11:40:00</td>\n",
       "    </tr>\n",
       "    <tr>\n",
       "      <th>2</th>\n",
       "      <td>https://order-order.com/2022/06/13/watch-starm...</td>\n",
       "      <td>Starmer Insists “There’s No Problem Here” Over...</td>\n",
       "      <td>2022-06-13 11:19:00</td>\n",
       "    </tr>\n",
       "    <tr>\n",
       "      <th>3</th>\n",
       "      <td>https://order-order.com/2022/06/13/judge-rules...</td>\n",
       "      <td>Judge Rules Cadwalladr Claims of Russian Backi...</td>\n",
       "      <td>2022-06-13 10:37:00</td>\n",
       "    </tr>\n",
       "    <tr>\n",
       "      <th>4</th>\n",
       "      <td>https://order-order.com/2022/06/13/breaking-st...</td>\n",
       "      <td>Starmer Under Investigation by Commons Sleaze ...</td>\n",
       "      <td>2022-06-13 10:20:00</td>\n",
       "    </tr>\n",
       "  </tbody>\n",
       "</table>\n",
       "</div>"
      ],
      "text/plain": [
       "                                                Link  \\\n",
       "0  https://order-order.com/2022/06/13/davis-slams...   \n",
       "1  https://order-order.com/2022/06/13/reform-uk-l...   \n",
       "2  https://order-order.com/2022/06/13/watch-starm...   \n",
       "3  https://order-order.com/2022/06/13/judge-rules...   \n",
       "4  https://order-order.com/2022/06/13/breaking-st...   \n",
       "\n",
       "                                            Headline           Post Time  \n",
       "0           Davis Slams US Legal System Over Assange 2022-06-13 13:00:00  \n",
       "1  Reform UK Launches £74 Billion ‘Emergency Reco... 2022-06-13 11:40:00  \n",
       "2  Starmer Insists “There’s No Problem Here” Over... 2022-06-13 11:19:00  \n",
       "3  Judge Rules Cadwalladr Claims of Russian Backi... 2022-06-13 10:37:00  \n",
       "4  Starmer Under Investigation by Commons Sleaze ... 2022-06-13 10:20:00  "
      ]
     },
     "execution_count": 2,
     "metadata": {},
     "output_type": "execute_result"
    }
   ],
   "source": [
    "articleDetails.head()"
   ]
  }
 ],
 "metadata": {
  "kernelspec": {
   "display_name": "Python 3.10.4 64-bit",
   "language": "python",
   "name": "python3"
  },
  "language_info": {
   "codemirror_mode": {
    "name": "ipython",
    "version": 3
   },
   "file_extension": ".py",
   "mimetype": "text/x-python",
   "name": "python",
   "nbconvert_exporter": "python",
   "pygments_lexer": "ipython3",
   "version": "3.10.4"
  },
  "orig_nbformat": 4,
  "vscode": {
   "interpreter": {
    "hash": "e7370f93d1d0cde622a1f8e1c04877d8463912d04d973331ad4851f04de6915a"
   }
  }
 },
 "nbformat": 4,
 "nbformat_minor": 2
}
